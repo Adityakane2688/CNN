{
  "nbformat": 4,
  "nbformat_minor": 0,
  "metadata": {
    "colab": {
      "provenance": []
    },
    "kernelspec": {
      "name": "python3",
      "display_name": "Python 3"
    },
    "language_info": {
      "name": "python"
    }
  },
  "cells": [
    {
      "cell_type": "code",
      "source": [
        "import tensorflow\n",
        "from tensorflow import keras\n",
        "from keras.layers import Dense,Conv2D,Flatten,AveragePooling2D\n",
        "from keras import Sequential\n",
        "from keras.datasets import mnist\n",
        "from tensorflow.keras.utils import to_categorical\n"
      ],
      "metadata": {
        "id": "AxYvAp6fLVWx"
      },
      "execution_count": 45,
      "outputs": []
    },
    {
      "cell_type": "code",
      "source": [
        "(x_train,y_train),(x_test,y_test) = mnist.load_data()\n",
        "x_train, x_test = x_train / 255.0, x_test / 255.0  # Normalize pixel values to [0, 1]\n",
        "y_train, y_test = to_categorical(y_train, 10), to_categorical(y_test, 10)  # One-hot encode labels"
      ],
      "metadata": {
        "id": "0PVFL8EqL6nF"
      },
      "execution_count": 46,
      "outputs": []
    },
    {
      "cell_type": "code",
      "source": [
        "model = Sequential()\n",
        "model.add(Conv2D(6,kernel_size=(5,5),padding='valid',activation='tanh',input_shape=(28,28,1))) #Convolution Layer 1\n",
        "model.add(AveragePooling2D(pool_size=(2,2),strides=2,padding='valid')) #Average Pooling Layer 1\n",
        "model.add(Conv2D(16,kernel_size=(5,5),padding='valid',activation='tanh')) #Convolution Layer 2\n",
        "model.add(AveragePooling2D(pool_size=(2,2),strides=2,padding='valid')) #Average Pooling Layer 2\n",
        "model.add(Flatten()) #2D to 1D\n",
        "model.add(Dense(120,activation='tanh')) # Convolution Layer 3\n",
        "model.add(Dense(84,activation='tanh')) # Fully Connected 1\n",
        "model.add(Dense(10,activation='softmax')) # Fully Connected 2"
      ],
      "metadata": {
        "id": "IVnmI9S8MIXl"
      },
      "execution_count": 47,
      "outputs": []
    },
    {
      "cell_type": "code",
      "source": [
        "model.summary()"
      ],
      "metadata": {
        "colab": {
          "base_uri": "https://localhost:8080/"
        },
        "id": "V-BsJX0bNfoo",
        "outputId": "44ed4afb-9698-4fb9-a3c4-90447d2924b3"
      },
      "execution_count": 48,
      "outputs": [
        {
          "output_type": "stream",
          "name": "stdout",
          "text": [
            "Model: \"sequential_11\"\n",
            "_________________________________________________________________\n",
            " Layer (type)                Output Shape              Param #   \n",
            "=================================================================\n",
            " conv2d_16 (Conv2D)          (None, 24, 24, 6)         156       \n",
            "                                                                 \n",
            " average_pooling2d_16 (Aver  (None, 12, 12, 6)         0         \n",
            " agePooling2D)                                                   \n",
            "                                                                 \n",
            " conv2d_17 (Conv2D)          (None, 8, 8, 16)          2416      \n",
            "                                                                 \n",
            " average_pooling2d_17 (Aver  (None, 4, 4, 16)          0         \n",
            " agePooling2D)                                                   \n",
            "                                                                 \n",
            " flatten_8 (Flatten)         (None, 256)               0         \n",
            "                                                                 \n",
            " dense_24 (Dense)            (None, 120)               30840     \n",
            "                                                                 \n",
            " dense_25 (Dense)            (None, 84)                10164     \n",
            "                                                                 \n",
            " dense_26 (Dense)            (None, 10)                850       \n",
            "                                                                 \n",
            "=================================================================\n",
            "Total params: 44426 (173.54 KB)\n",
            "Trainable params: 44426 (173.54 KB)\n",
            "Non-trainable params: 0 (0.00 Byte)\n",
            "_________________________________________________________________\n"
          ]
        }
      ]
    },
    {
      "cell_type": "code",
      "source": [
        "model.compile(optimizer='adam',loss='categorical_crossentropy',metrics=['accuracy'])\n",
        "model.fit(x_train.reshape(-1, 28, 28, 1), y_train, epochs=10, batch_size=64, validation_data=(x_test.reshape(-1, 28, 28, 1), y_test))\n",
        "test_loss, test_acc = model.evaluate(x_test.reshape(-1, 28, 28, 1), y_test)\n",
        "print(\"Test accuracy:\", test_acc)\n"
      ],
      "metadata": {
        "colab": {
          "base_uri": "https://localhost:8080/"
        },
        "id": "d9xKdGo-RNay",
        "outputId": "60a465a6-398b-4952-a8f5-7e56723b34bb"
      },
      "execution_count": 49,
      "outputs": [
        {
          "output_type": "stream",
          "name": "stdout",
          "text": [
            "Epoch 1/10\n",
            "938/938 [==============================] - 17s 17ms/step - loss: 0.2770 - accuracy: 0.9201 - val_loss: 0.1265 - val_accuracy: 0.9611\n",
            "Epoch 2/10\n",
            "938/938 [==============================] - 17s 18ms/step - loss: 0.1028 - accuracy: 0.9683 - val_loss: 0.0900 - val_accuracy: 0.9709\n",
            "Epoch 3/10\n",
            "938/938 [==============================] - 17s 18ms/step - loss: 0.0710 - accuracy: 0.9783 - val_loss: 0.0750 - val_accuracy: 0.9747\n",
            "Epoch 4/10\n",
            "938/938 [==============================] - 17s 18ms/step - loss: 0.0535 - accuracy: 0.9838 - val_loss: 0.0541 - val_accuracy: 0.9822\n",
            "Epoch 5/10\n",
            "938/938 [==============================] - 16s 17ms/step - loss: 0.0426 - accuracy: 0.9867 - val_loss: 0.0523 - val_accuracy: 0.9829\n",
            "Epoch 6/10\n",
            "938/938 [==============================] - 16s 17ms/step - loss: 0.0354 - accuracy: 0.9888 - val_loss: 0.0502 - val_accuracy: 0.9834\n",
            "Epoch 7/10\n",
            "938/938 [==============================] - 17s 18ms/step - loss: 0.0298 - accuracy: 0.9905 - val_loss: 0.0532 - val_accuracy: 0.9829\n",
            "Epoch 8/10\n",
            "938/938 [==============================] - 16s 17ms/step - loss: 0.0246 - accuracy: 0.9922 - val_loss: 0.0508 - val_accuracy: 0.9840\n",
            "Epoch 9/10\n",
            "938/938 [==============================] - 16s 17ms/step - loss: 0.0213 - accuracy: 0.9931 - val_loss: 0.0473 - val_accuracy: 0.9849\n",
            "Epoch 10/10\n",
            "938/938 [==============================] - 17s 18ms/step - loss: 0.0191 - accuracy: 0.9940 - val_loss: 0.0460 - val_accuracy: 0.9856\n",
            "313/313 [==============================] - 1s 4ms/step - loss: 0.0460 - accuracy: 0.9856\n",
            "Test accuracy: 0.9855999946594238\n"
          ]
        }
      ]
    }
  ]
}